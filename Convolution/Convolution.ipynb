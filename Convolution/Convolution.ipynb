{
 "cells": [
  {
   "cell_type": "markdown",
   "metadata": {},
   "source": [
    "# Convolutional layer\n",
    "\n",
    "\n",
    "**Task:** \n",
    "\n",
    "* **Given**\n",
    "\n",
    "The function for the cross-correlation which is used in Conv-nets\n",
    "$$P_{c,x,y} = b + \\sum_{d = 0}^{D}\\sum_{i = -\\frac{k}{2}}^{\\frac{k}{2}} \\sum_{j = -\\frac{k}{2}}^{\\frac{k}{2}} w_{c,d,i,j}*X_{d,x+i,y+j}$$\n",
    "\n",
    "Where c is the filter index of the output feature map vector, D is the number of feature-maps in the input and k is the size of the convolution kernel. $P_{c,x,y}$ is one pixel in one feature map c.\n",
    "\n",
    "* **Find** \n",
    "    * The equations for backward pass in a convolutional net\n",
    "    * A numerical forward pass that qualitatively seems reasonable\n",
    "    * A numerical solution to a forward and backward pass in a convolutional net that proves the correctness of the gradients.\n",
    "        * The solution should demonstrate how change of depth and height/width dimension is handled in a convolutional net. Both by strided convolution and by maxpool\n",
    "        * The gradients should be verified with an appropriate method.\n",
    "        * For simplicity the L2 loss function is **given** $$L2 = \\frac{1}{N} \\sum_{i = 0}^{N} \\frac{1}{2} (\\hat{y_i}-y_i)^2$$, $$\\frac{\\partial L2}{\\partial \\hat{y_i}} = \\frac{1}{N}(\\hat{y_i} - y_i)$$\n",
    "\n",
    "\n",
    "\n",
    "**Solution:**\n",
    "\n",
    "The derivative of a pixel in the output feature map, with respect to an input pixel X_{d, x+i,y+j} will the be this:\n",
    "\n",
    "$$\\frac{\\partial P_{c,x,y}}{\\partial X_{d,x + i,y + j}} =  w_{c,d,i,j}$$\n",
    "\n",
    "given that i and j are within within the kernel size, else the derivative is zero. Thus, to backpropagate, one must calculate the derivative of every pixel, in every feature map of the output, with respect to every pixel in every feature map of the input.\n",
    "\n",
    "The derivative of a pixel in the output feature map, with respect to the weights is:\n",
    "\n",
    "$$\\frac{\\partial P_{c,x,y}}{\\partial w_{c,d,i,j}} =  X_{d, x+i, y+j}$$\n",
    "\n",
    "To get the full derivative of the weights one must sum over all pixels, in all output channels.\n",
    "\n",
    "The derivative of the bias is of course simply 1.\n",
    "\n",
    "\n",
    "When we have the derivatives of the Convolutional layer, we can use the chain rule to backpropagate the loss through several layers. This code will illustrate a convolutional network fully working with multiple feature maps, configurable stride and padding.\n"
   ]
  },
  {
   "cell_type": "markdown",
   "metadata": {},
   "source": [
    "## Model definitions\n",
    "\n",
    "The following model defines a convolutional network with batch sizes of 1, or in other words no batches at all only singular examples. The model allows for variable input dimension and output dimension, and allows strided convolutions for downsampling. The ReLU activation function is defined, but could easily be switched out with any other activation function.\n",
    "\n",
    "I have chosen to only provide this numerical example in python/numpy and not hand-calculated, as doing image convolutions by hand is a very tedious process.\n",
    "\n",
    "The code for the network is a bit larger than I would like for a simple illustrative example, but every code line seems to be necessary."
   ]
  },
  {
   "cell_type": "code",
   "execution_count": 1,
   "metadata": {},
   "outputs": [],
   "source": [
    "import numpy as np"
   ]
  },
  {
   "cell_type": "markdown",
   "metadata": {},
   "source": [
    "### The convolutional layer\n",
    "This convolutional layer class implements a forward pass and backpropegation. The class saves the input feature maps $X$ as cache during the forward pass, as it is needed for the backward pass as stated in the equations above.\n",
    "\n",
    "The interesting parts of this class is the line that calculates the output size of a convolutional layer\n",
    "\n",
    "$$W_y = \\frac{W_x - K + 2 P_w}{Stride} + 1$$\n",
    "\n",
    ", and the actual forward and backward passes that are contained within the for-loops.\n",
    "\n",
    "\n",
    "\n",
    "The code is inspired by https://becominghuman.ai/back-propagation-in-convolutional-neural-networks-intuition-and-code-714ef1c38199, however several changes are made. This conv layer has added the functionality of padding, bias, more channels and strided convolution. It might be that adding these things reduces the simplicity of the example, but I believe the additional insight they provide outweigh the increased complexity of the example."
   ]
  },
  {
   "cell_type": "code",
   "execution_count": 2,
   "metadata": {},
   "outputs": [],
   "source": [
    "class convLayer():\n",
    "    def __init__(self, kernelsize, inputDim, outDim, stride=1, pad=0):\n",
    "        self.kernelsize = kernelsize\n",
    "        self.stride = stride\n",
    "        self.pad = pad\n",
    "        self.in_channels = inputDim\n",
    "        self.out_channels = outDim\n",
    "        \n",
    "        self.W = np.random.normal(0, 1, (outDim, inputDim, kernelsize, kernelsize))\n",
    "        #self.bias = np.random.normal(0,1,(outDim))\n",
    "        \n",
    "        self.cache = None\n",
    "        \n",
    "        self.gradW = None\n",
    "        #self.gradB = None\n",
    "\n",
    "    def __call__(self, x: np.ndarray):\n",
    "        (D, x_width, x_height) = x.shape\n",
    "        x = np.pad(x, (((0,0),(self.pad, self.pad),(self.pad,self.pad))), 'constant')\n",
    "        \n",
    "        output_size = (x_width - self.kernelsize + 2*self.pad)//self.stride + 1\n",
    "        \n",
    "        output = np.zeros((self.out_channels, output_size, output_size))\n",
    "        stride = self.stride\n",
    "        \n",
    "        '''\n",
    "        The following loop performes the equation described above. Instead of looping over all input channels, \n",
    "        I apply vectorisation with numpy.\n",
    "        '''\n",
    "        for i in range(output.shape[1]):\n",
    "            for j in range(output.shape[2]):\n",
    "                x_slice = x[:,i*stride:i*stride+self.kernelsize, j*stride:j*stride + self.kernelsize]\n",
    "                output[:,i,j] += np.sum(self.W * x_slice, (1,2,3))# + self.bias   \n",
    "        self.cache = x\n",
    "        return output\n",
    "    \n",
    "    def backward(self, delta):\n",
    "        x = self.cache\n",
    "\n",
    "        (C,H, W) = delta.shape\n",
    "    \n",
    "        dX = np.zeros(x.shape)\n",
    "        dW = np.zeros(self.W.shape)\n",
    "        #dB = np.sum(delta, axis = (1,2))\n",
    "        stride = self.stride\n",
    "        # Looping over all pixels in the output. For all pixels and all channels the derivative of this layer is\n",
    "        # calculated according to the above equations, and multiplied with delta according to the chain rule.\n",
    "        for h in range(H):\n",
    "            for w in range(W):\n",
    "                dx = self.W * delta[:,h,w].reshape(C,-1,1,1)\n",
    "                dX[:,h*stride:h*stride+self.kernelsize, w*stride:w*stride+self.kernelsize] += np.sum(dx,axis=0)\n",
    "                \n",
    "                x_slice = x[:,h*stride:h*stride+self.kernelsize, w*stride:w*stride+self.kernelsize]\n",
    "                dW +=  x_slice* delta[:,h,w].reshape(C,-1,1,1)\n",
    "    \n",
    "        self.gradW = dW\n",
    "        #self.gradB = dB\n",
    "        return dX[:,self.pad:-self.pad, self.pad:-self.pad]\n",
    "                \n",
    "        "
   ]
  },
  {
   "cell_type": "markdown",
   "metadata": {},
   "source": [
    "### Max Pool\n",
    "\n",
    "The following class implements max pooling. Max Pool is a common method for down sampling the image h/w dimensions. A 2x2 grid is slided over the image in strides of 2, picking out the max value at each 2x2 section.\n",
    "\n",
    "The **gradient** will be 1 every place where the max values originate, and 0 elsewhere. Therefor, the code saves a \"bed of nails\" image as cache, which keeps memory of which indexes provided the max values. Backward pass is then simply multiplying the delta with each appropriate 2x2 grid."
   ]
  },
  {
   "cell_type": "code",
   "execution_count": 3,
   "metadata": {},
   "outputs": [],
   "source": [
    "class MaxPool():\n",
    "    '''\n",
    "    This function performs maxpooling with stride of 2 and kernel size 2.\n",
    "    It saves a ''needle map'' consisting of ones where the maximum value was taken from, and zero elsewhere.\n",
    "    The backprop is simply multiplying delta with the needle map.\n",
    "    '''\n",
    "    def __init__(self):\n",
    "        self.cache = None\n",
    "    def __call__(self, x):\n",
    "        self.cache = np.zeros(x.shape)\n",
    "        output = np.zeros((x.shape[0],(x.shape[1]+1)//2, (x.shape[2]+1)//2))\n",
    "        for i in range(output.shape[1]):\n",
    "            for j in range(output.shape[2]):\n",
    "                x_slice = x[:,i*2:i*2+2, j*2:j*2+2]\n",
    "                output[:,i,j] = np.amax(x_slice, axis=(1,2))\n",
    "   \n",
    "                idx_map = np.where(x_slice == output[:,i,j].reshape(-1,1,1),\\\n",
    "                                   np.ones((output.shape[0],2,2)), np.zeros((output.shape[0],2,2)))\n",
    "                self.cache[:,i*2:i*2+2, j*2:j*2+2] = idx_map\n",
    "        return output\n",
    "    def backward(self, d):\n",
    "        output = np.zeros(self.cache.shape)\n",
    "        for i in range(d.shape[1]):\n",
    "            for j in range(d.shape[2]):\n",
    "                self.cache[:,i*2:i*2+2,j*2:j*2+2]*= d[:,i,j].reshape(-1,1,1)\n",
    "        return self.cache\n",
    "        "
   ]
  },
  {
   "cell_type": "markdown",
   "metadata": {},
   "source": [
    "### Activation and cost function"
   ]
  },
  {
   "cell_type": "code",
   "execution_count": 4,
   "metadata": {},
   "outputs": [],
   "source": [
    "class ReLU():\n",
    "    def __init__(self):\n",
    "        self.cache = None\n",
    "    def __call__(self, x):\n",
    "        y = np.maximum(x,0.)\n",
    "        self.cache = y\n",
    "        return y\n",
    "    def backward(self,y):\n",
    "        return np.where(self.cache >0, 1,0)*y\n",
    "\n"
   ]
  },
  {
   "cell_type": "code",
   "execution_count": 5,
   "metadata": {},
   "outputs": [],
   "source": [
    "class l2_loss():\n",
    "    '''\n",
    "    For simplicity the l2_loss function is hard-coded for image shape of 28x28\n",
    "    '''\n",
    "    def __init__(self):\n",
    "        self.cache = None\n",
    "    def __call__(self, x, y):\n",
    "        self.cache = (x-y)/784\n",
    "        return np.sum(0.5*(x-y)**2)/784\n",
    "    def backward(self):\n",
    "        return self.cache\n"
   ]
  },
  {
   "cell_type": "markdown",
   "metadata": {},
   "source": [
    "## The forward function\n",
    "This code will demonstrate the forward function, with a couple of known kernel weights. Note that the convoluion is strided, and as expected, the output feature size is reduced."
   ]
  },
  {
   "cell_type": "code",
   "execution_count": 9,
   "metadata": {},
   "outputs": [
    {
     "data": {
      "image/png": "[encoded data removed]",
      "text/plain": [
       "<Figure size 432x288 with 1 Axes>"
      ]
     },
     "metadata": {
      "needs_background": "light"
     },
     "output_type": "display_data"
    },
    {
     "name": "stdout",
     "output_type": "stream",
     "text": [
      "[[[[-1.      0.      1.    ]\n",
      "   [-2.      0.      2.    ]\n",
      "   [-1.      0.      1.    ]]]\n",
      "\n",
      "\n",
      " [[[ 0.      0.      0.    ]\n",
      "   [ 0.      0.      0.    ]\n",
      "   [ 0.      0.      0.    ]]]\n",
      "\n",
      "\n",
      " [[[ 0.0625  0.125   0.0625]\n",
      "   [ 0.125   0.25    0.125 ]\n",
      "   [ 0.0625  0.125   0.0625]]]]\n",
      "We can see that the result of the forward pass is as expected\n"
     ]
    },
    {
     "data": {
      "image/png": "[encoded data removed]",
      "text/plain": [
       "<Figure size 432x288 with 1 Axes>"
      ]
     },
     "metadata": {
      "needs_background": "light"
     },
     "output_type": "display_data"
    },
    {
     "data": {
      "image/png": "[encoded data removed]",
      "text/plain": [
       "<Figure size 432x288 with 1 Axes>"
      ]
     },
     "metadata": {
      "needs_background": "light"
     },
     "output_type": "display_data"
    },
    {
     "data": {
      "image/png": "[encoded data removed]",
      "text/plain": [
       "<Figure size 432x288 with 1 Axes>"
      ]
     },
     "metadata": {
      "needs_background": "light"
     },
     "output_type": "display_data"
    }
   ],
   "source": [
    "from matplotlib import pyplot as plt\n",
    "\n",
    "#Defining our image\n",
    "x = np.zeros((1,28,28))\n",
    "x[0,:,18:20] = 1\n",
    "x[0,:,8:12] = 1\n",
    "plt.imshow(x[0], cmap = \"gray\")\n",
    "plt.show()\n",
    "\n",
    "\n",
    "#Defining our model\n",
    "conv = convLayer(kernelsize = 3, inputDim=1, outDim=3, stride=2, pad=1)\n",
    "\n",
    "#Sobel filter\n",
    "conv.W[0] = np.array([[-1,0,1],[-2,0,2],[-1,0,1]]).reshape((1,3,3))\n",
    "#Zero-weights\n",
    "conv.W[1] = np.zeros((1,3,3))\n",
    "#Gaussian blur\n",
    "conv.W[2] = np.array([[1/16,2/16,1/16],[2/16,4/16,2/16],[1/16,2/16,1/16]]).reshape((1,3,3))\n",
    "print(conv.W)\n",
    "\n",
    "x = conv(x)\n",
    "\n",
    "print(\"We can see that the result of the forward pass is as expected\")\n",
    "plt.imshow(x[0], cmap = \"gray\")\n",
    "plt.show()\n",
    "plt.imshow(x[1], cmap = \"gray\")\n",
    "plt.show()\n",
    "plt.imshow(x[2], cmap = \"gray\")\n",
    "plt.show()"
   ]
  },
  {
   "cell_type": "markdown",
   "metadata": {},
   "source": [
    "## Stacking layers together\n",
    "\n",
    "As the layers has been defined abstract and modularized, we can build a network by stacking the moduels after each other. This code stacks 2 conv layers after one other followed by a maxpool layer, and checks the calculated gradient by comparing to finite differences. The activation function used is ReLU."
   ]
  },
  {
   "cell_type": "code",
   "execution_count": 7,
   "metadata": {
    "scrolled": false
   },
   "outputs": [],
   "source": [
    "#Defining our model\n",
    "conv1 = convLayer(kernelsize = 3, inputDim=1, outDim=3, stride=1, pad=1)\n",
    "conv2 = convLayer(kernelsize = 3, inputDim=3, outDim=1, stride=2, pad=1)\n",
    "\n",
    "maxpool = MaxPool()\n",
    "\n",
    "rl1 = ReLU()\n",
    "rl2 = ReLU()\n",
    "l2 = l2_loss()\n",
    "\n",
    "def model_forward(x):\n",
    "    logits = conv1(x)\n",
    "    logits = rl1(logits)\n",
    "    logits = conv2(logits)\n",
    "    logits = maxpool(logits)\n",
    "    logits = rl2(logits)\n",
    "    return logits\n",
    "\n",
    "def model_backward():\n",
    "    '''\n",
    "    The backward function demonstrates the chain rule.\n",
    "    The derivative delta is passed on layer by layer, to create an even longer\n",
    "    chain as one gets deeper in the network.\n",
    "    \n",
    "    Using the delta notation, finding the derivatives in a deep net is no more difficult than\n",
    "    in a shallow net.\n",
    "    '''\n",
    "    delta = l2.backward()\n",
    "    \n",
    "    delta = rl2.backward(delta)                \n",
    "    delta = maxpool.backward(delta)\n",
    "    \n",
    "    delta = conv2.backward(delta)\n",
    "\n",
    "    delta = rl1.backward(delta)\n",
    "    delta = conv1.backward(delta)\n",
    "\n",
    "#Defining our image\n",
    "x = np.random.normal(0,1,(1,28,28))\n",
    "#Our ''true'' downsampled image, that we will perform l2 norm-loss on\n",
    "y = np.random.normal(0,1,(1,7,7))"
   ]
  },
  {
   "cell_type": "markdown",
   "metadata": {},
   "source": [
    "## Gradient check\n",
    "The following function performs a gradient check by comparing the calculated gradient with finite difference approximation. The result is of more interest than the details of the code, as it confirms that the backward pass in each model layer is correct."
   ]
  },
  {
   "cell_type": "code",
   "execution_count": 8,
   "metadata": {},
   "outputs": [
    {
     "name": "stdout",
     "output_type": "stream",
     "text": [
      "Assessing convlayer: 1, weights (0, 0)\n",
      "Assessing convlayer: 1, weights (1, 0)\n",
      "Assessing convlayer: 1, weights (2, 0)\n",
      "Assessing convlayer: 2, weights (0, 0)\n",
      "Assessing convlayer: 2, weights (0, 1)\n",
      "Assessing convlayer: 2, weights (0, 2)\n",
      "Finite differences and back-prop gradients agree. :)\n"
     ]
    }
   ],
   "source": [
    "#Performing gradient check\n",
    "for l, layer in enumerate([conv1, conv2]):\n",
    "    w_orig = layer.W.copy()\n",
    "    epsilon = 1e-7\n",
    "    for c in range(w_orig.shape[0]):\n",
    "        for d in range(w_orig.shape[1]):\n",
    "            print(f\"Assessing convlayer: {l+1}, weights {c, d}\" )\n",
    "            for i in range(w_orig.shape[2]):\n",
    "                for j in range(w_orig.shape[3]):\n",
    "                    #Approximated gradient\n",
    "                    orig = layer.W[c,d,i,j].copy()\n",
    "                    layer.W[c,d,i,j] = orig + epsilon\n",
    "                    logits = model_forward(x)\n",
    "                    cost1 = l2(logits, y)\n",
    "                    \n",
    "                    layer.W[c,d,i,j] = orig - epsilon\n",
    "                    logits = model_forward(x)\n",
    "                    cost2 = l2(logits, y)\n",
    "                    gradient_approximation = (cost1 - cost2) / (2 * epsilon)\n",
    "                    \n",
    "                    # Actual gradient\n",
    "                    layer.W[c,d,i,j] = orig\n",
    "                    #Forward\n",
    "                    logits = model_forward(x)\n",
    "                    loss = l2(logits,y)\n",
    "\n",
    "                    #Backward\n",
    "                    model_backward()\n",
    "                    difference = gradient_approximation - layer.gradW[c, d, i, j]\n",
    "                    assert abs(difference) <= epsilon,\\\n",
    "                        f\"Calculated gradient is incorrect. \" \\\n",
    "                        f\"Approximation: {gradient_approximation}, actual gradient: {layer.gradW[c, d, i,j]}\\n\" \\\n",
    "                        f\"The incorrect gradient was in c: {c},d: {d} i: {i}, j: {j}\"\n",
    "                    \n",
    "                    \n",
    "print(\"Finite differences and back-prop gradients agree. :)\")"
   ]
  }
 ],
 "metadata": {
  "kernelspec": {
   "display_name": "Python tdt4195",
   "language": "python",
   "name": "tdt4195"
  },
  "language_info": {
   "codemirror_mode": {
    "name": "ipython",
    "version": 3
   },
   "file_extension": ".py",
   "mimetype": "text/x-python",
   "name": "python",
   "nbconvert_exporter": "python",
   "pygments_lexer": "ipython3",
   "version": "3.6.9"
  }
 },
 "nbformat": 4,
 "nbformat_minor": 2
}
